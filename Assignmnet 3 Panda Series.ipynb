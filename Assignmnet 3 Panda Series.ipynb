{
 "cells": [
  {
   "cell_type": "markdown",
   "id": "50a17433",
   "metadata": {},
   "source": [
    "# Week 3 assignment Pandas series.\n",
    "#First the cumilative miles ridden each day was found.\n",
    "#Then the total miles ridden each day was found using series."
   ]
  },
  {
   "cell_type": "code",
   "execution_count": 4,
   "id": "bf781d47",
   "metadata": {},
   "outputs": [
    {
     "name": "stdout",
     "output_type": "stream",
     "text": [
      "Miles each day:\n",
      "0    55\n",
      "1    65\n",
      "2    45\n",
      "3    40\n",
      "4    85\n",
      "5    15\n",
      "dtype: int64\n"
     ]
    }
   ],
   "source": [
    "import pandas as pd\n",
    "import numpy as np\n",
    "cum_miles = np.array([55,120,165,205,290,305])\n",
    "cum_series = pd.Series(cum_miles)\n",
    "each_Day = np.array([cum_series[0]])\n",
    "for i in range(1, len(cum_series)):\n",
    "    each_Day = np.append(each_Day, cum_series[i]-cum_series[i-1])\n",
    "print(\"Miles each day:\")\n",
    "print(pd.Series(each_Day))"
   ]
  }
 ],
 "metadata": {
  "kernelspec": {
   "display_name": "Python 3 (ipykernel)",
   "language": "python",
   "name": "python3"
  },
  "language_info": {
   "codemirror_mode": {
    "name": "ipython",
    "version": 3
   },
   "file_extension": ".py",
   "mimetype": "text/x-python",
   "name": "python",
   "nbconvert_exporter": "python",
   "pygments_lexer": "ipython3",
   "version": "3.9.13"
  }
 },
 "nbformat": 4,
 "nbformat_minor": 5
}
